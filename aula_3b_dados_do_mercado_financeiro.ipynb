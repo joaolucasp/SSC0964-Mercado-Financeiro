{
  "nbformat": 4,
  "nbformat_minor": 0,
  "metadata": {
    "colab": {
      "provenance": [],
      "include_colab_link": true
    },
    "kernelspec": {
      "name": "python3",
      "display_name": "Python 3"
    },
    "language_info": {
      "name": "python"
    }
  },
  "cells": [
    {
      "cell_type": "markdown",
      "metadata": {
        "id": "view-in-github",
        "colab_type": "text"
      },
      "source": [
        "<a href=\"https://colab.research.google.com/github/joaolucasp/SSC0964-Mercado-Financeiro/blob/main/aula_3b_dados_do_mercado_financeiro.ipynb\" target=\"_parent\"><img src=\"https://colab.research.google.com/assets/colab-badge.svg\" alt=\"Open In Colab\"/></a>"
      ]
    },
    {
      "cell_type": "code",
      "source": [
        "!pip install yfinance --upgrade --no-cache-dir"
      ],
      "metadata": {
        "id": "ij-Ec5iWwvt7"
      },
      "execution_count": null,
      "outputs": []
    },
    {
      "cell_type": "code",
      "source": [
        "import numpy as np\n",
        "#from datetime import datetime\n",
        "import yfinance as yf\n",
        "import pandas as pd\n",
        "import matplotlib.pyplot as plt\n",
        "import seaborn as sns\n",
        "\n",
        "sns.set(style='whitegrid')"
      ],
      "metadata": {
        "id": "PN8931yBsFkr"
      },
      "execution_count": null,
      "outputs": []
    },
    {
      "cell_type": "code",
      "source": [
        "dados = yf.download(\"VALE3.SA\", start=\"2022-01-01\", end=\"2022-05-31\", interval=\"1mo\" ) #interval = 1d, 1wk, 1mo\n"
      ],
      "metadata": {
        "id": "6wEyEZSQ9Ksf"
      },
      "execution_count": null,
      "outputs": []
    },
    {
      "cell_type": "code",
      "source": [
        "dados\n"
      ],
      "metadata": {
        "id": "uDd3i7jfuYBl"
      },
      "execution_count": null,
      "outputs": []
    },
    {
      "cell_type": "code",
      "source": [
        "#Obter dados de múltiplos ativos\n",
        "acoes = ['ITUB4.SA', 'BBDC4.SA', 'DIRR3.SA', 'JBSS3.SA','GUAR3.SA', 'PSSA3.SA', 'AGRO3.SA']\n",
        "\n",
        "ydata = yf.download(acoes, '2019-01-01', '2023-12-31', '1d');\n",
        "dados = ydata[\"Adj Close\"]\n"
      ],
      "metadata": {
        "id": "PxFUmVoXzkXR"
      },
      "execution_count": null,
      "outputs": []
    },
    {
      "cell_type": "code",
      "source": [
        "display(dados)"
      ],
      "metadata": {
        "id": "HaRgAY1Xt_8i"
      },
      "execution_count": null,
      "outputs": []
    },
    {
      "cell_type": "code",
      "source": [
        "dados.to_excel('Dados-acoes.xlsx', engine='openpyxl')"
      ],
      "metadata": {
        "id": "yKhAiUSm1YHy"
      },
      "execution_count": null,
      "outputs": []
    },
    {
      "cell_type": "code",
      "source": [
        "dados.plot(figsize = (15,5));"
      ],
      "metadata": {
        "id": "1xPONfUO2QmU"
      },
      "execution_count": null,
      "outputs": []
    },
    {
      "cell_type": "code",
      "source": [
        "dados = dados/dados.iloc[0]*100\n",
        "dados.plot(figsize = (15,5));"
      ],
      "metadata": {
        "id": "usr52zlW2RBM"
      },
      "execution_count": null,
      "outputs": []
    },
    {
      "cell_type": "code",
      "source": [
        "ret_acc = (dados.iloc[-1] / dados.iloc[0])-1\n",
        "print(\"Retorno acumulado:\\n\", round(ret_acc*100,2))\n",
        "ret_aa = ((dados.iloc[-1] / dados.iloc[0]) ** (1/5)) - 1\n",
        "print(\"Retorno anualizado:\\n\", round(ret_aa*100,2))"
      ],
      "metadata": {
        "id": "KG3ddV8a4-yH"
      },
      "execution_count": null,
      "outputs": []
    },
    {
      "cell_type": "code",
      "source": [
        "dados_chg = dados.pct_change()\n",
        "dados_chg.fillna(0, inplace=True)\n",
        "dados_chg"
      ],
      "metadata": {
        "id": "dLBpwOz-5x6Z"
      },
      "execution_count": null,
      "outputs": []
    },
    {
      "cell_type": "code",
      "source": [
        "#Calculo da volatilidade anualizada\n",
        "vol_aa = dados_chg.std()*np.sqrt(252)\n",
        "print(\"Volatilidade anualizada\\n\", vol_aa)"
      ],
      "metadata": {
        "id": "gv6gpK9-6hSK"
      },
      "execution_count": null,
      "outputs": []
    }
  ]
}